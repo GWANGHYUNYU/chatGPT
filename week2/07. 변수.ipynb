{
 "cells": [
  {
   "cell_type": "markdown",
   "id": "593a0ec1",
   "metadata": {},
   "source": [
    "## 변수는 어떻게 만들까?\n",
    "우리는 앞에서 이미 변수를 사용해 왔다. 다음 예와 같은 a, b, c를 ‘변수’라고 한다."
   ]
  },
  {
   "cell_type": "code",
   "execution_count": 1,
   "id": "b4ef8093",
   "metadata": {},
   "outputs": [
    {
     "name": "stdout",
     "output_type": "stream",
     "text": [
      "1\n",
      "python\n",
      "[1, 2, 3]\n"
     ]
    }
   ],
   "source": [
    "a = 1\n",
    "b = \"python\"\n",
    "c = [1, 2, 3]\n",
    "\n",
    "print(a)\n",
    "print(b)\n",
    "print(c)"
   ]
  },
  {
   "cell_type": "markdown",
   "id": "94932c44",
   "metadata": {},
   "source": [
    "```\n",
    "변수_이름 = 변수에_저장할_값\n",
    "```\n",
    "변수를 만들 때는 위 예처럼 =(assignment) 기호를 사용한다."
   ]
  },
  {
   "cell_type": "markdown",
   "id": "796235e5",
   "metadata": {},
   "source": [
    "## 변수 명명 규칙"
   ]
  },
  {
   "cell_type": "markdown",
   "id": "3fdb3628",
   "metadata": {},
   "source": [
    "### 변수명 규칙\n",
    "1. 영문자, 숫자, 언더스코어(_)만 사용할 수 있다.\n",
    "2. 숫자로 시작할 수 없다.\n",
    "3. 예약어는 사용할 수 없다.\n",
    "4. 대소문자를 구분한다."
   ]
  },
  {
   "cell_type": "code",
   "execution_count": 3,
   "id": "2791f96e",
   "metadata": {},
   "outputs": [],
   "source": [
    "# 올바른 변수명 예시\n",
    "name = \"홍길동\"\n",
    "age = 25\n",
    "user_name = \"gildong\"\n",
    "userName = \"gildong\"  # 카멜 케이스\n",
    "_private = \"비공개\"\n",
    "count1 = 10\n",
    "\n",
    "# 잘못된 변수명 예시\n",
    "# 1name = \"홍길동\"    # 숫자로 시작 (오류)\n",
    "# user-name = \"홍길동\"  # 하이픈 사용 (오류)\n",
    "# if = 10             # 예약어 사용 (오류)"
   ]
  },
  {
   "cell_type": "markdown",
   "id": "17218c1e",
   "metadata": {},
   "source": [
    "### 파이썬 예약어\n",
    "```\n",
    "False, None, True, and, as, assert, break, class, continue, def, \n",
    "del, elif, else, except, finally, for, from, global, if, import, \n",
    "in, is, lambda, nonlocal, not, or, pass, raise, return, try, \n",
    "while, with, yield\n",
    "```"
   ]
  },
  {
   "cell_type": "markdown",
   "id": "d15e137b",
   "metadata": {},
   "source": [
    "### 변수명 권장 사항\n",
    "- 의미가 명확한 이름을 사용한다.\n",
    "- snake_case (단어 사이에 언더스코어)를 권장한다.\n",
    "- 너무 짧거나 긴 이름은 피한다."
   ]
  },
  {
   "cell_type": "code",
   "execution_count": 4,
   "id": "480aa9a0",
   "metadata": {},
   "outputs": [],
   "source": [
    "# 좋은 예\n",
    "student_name = \"김철수\"\n",
    "total_score = 95\n",
    "user_age = 20\n",
    "\n",
    "# 피해야 할 예  \n",
    "a = \"김철수\"  # 의미 불명확\n",
    "studentNameFromKorea = \"김철수\"  # 너무 긴 이름"
   ]
  },
  {
   "cell_type": "markdown",
   "id": "30a0effc",
   "metadata": {},
   "source": [
    "## 변수란?\n",
    "파이썬에서 사용하는 변수는 객체를 가리키는 것이라고도 말할 수 있다. \n",
    "객체란 우리가 지금까지 보아 온 자료형의 데이터(값)와 같은 것을 의미하는 말이다."
   ]
  },
  {
   "cell_type": "code",
   "execution_count": 10,
   "id": "44fd4e20",
   "metadata": {},
   "outputs": [
    {
     "data": {
      "text/plain": [
       "2147229050624"
      ]
     },
     "execution_count": 10,
     "metadata": {},
     "output_type": "execute_result"
    }
   ],
   "source": [
    "a = [1, 2, 3]\n",
    "id(a)   # a 변수가 가리키는 객체의 메모리 주소 확인"
   ]
  },
  {
   "attachments": {
    "image.png": {
     "image/png": "[encoded data removed]"
    }
   },
   "cell_type": "markdown",
   "id": "7ee71a9a",
   "metadata": {},
   "source": [
    "![image.png](attachment:image.png)\n",
    "\n",
    "리스트 데이터(객체)가 자동으로 메모리에 생성되고 변수 a는 [1, 2, 3] 리스트가 저장된 메모리의 주소를 가리키게 된다.\n",
    "id는 변수가 가리키고 있는 객체의 주소 값을 반환하는 파이썬의 내장 함수이다. \n",
    "즉, 여기에서 변수 a가 가리키는 [1, 2, 3] 리스트의 주소 값은 2147229050624이라는 것을 알 수 있다."
   ]
  },
  {
   "cell_type": "markdown",
   "id": "d8a6e849",
   "metadata": {},
   "source": [
    "## 리스트를 복사하고자 할 때\n",
    "리스트 자료형에서 가장 혼동하기 쉬운 ‘복사’에 대해 설명"
   ]
  },
  {
   "cell_type": "code",
   "execution_count": 11,
   "id": "15b20f47",
   "metadata": {},
   "outputs": [],
   "source": [
    "a = [1, 2, 3]\n",
    "b = a"
   ]
  },
  {
   "cell_type": "code",
   "execution_count": 12,
   "id": "129e4a38",
   "metadata": {},
   "outputs": [
    {
     "data": {
      "text/plain": [
       "(2147229083072, 2147229083072)"
      ]
     },
     "execution_count": 12,
     "metadata": {},
     "output_type": "execute_result"
    }
   ],
   "source": [
    "id(a), id(b)  # a와 b가 동일한 객체를 가리킴"
   ]
  },
  {
   "cell_type": "code",
   "execution_count": 13,
   "id": "ad730692",
   "metadata": {},
   "outputs": [
    {
     "data": {
      "text/plain": [
       "True"
      ]
     },
     "execution_count": 13,
     "metadata": {},
     "output_type": "execute_result"
    }
   ],
   "source": [
    "a is b  # a와 b가 가리키는 객체가 같을까?"
   ]
  },
  {
   "cell_type": "code",
   "execution_count": 14,
   "id": "62490946",
   "metadata": {},
   "outputs": [
    {
     "data": {
      "text/plain": [
       "[1, 4, 3]"
      ]
     },
     "execution_count": 14,
     "metadata": {},
     "output_type": "execute_result"
    }
   ],
   "source": [
    "a[1] = 4\n",
    "a"
   ]
  },
  {
   "cell_type": "code",
   "execution_count": 15,
   "id": "593abe29",
   "metadata": {},
   "outputs": [
    {
     "data": {
      "text/plain": [
       "[1, 4, 3]"
      ]
     },
     "execution_count": 15,
     "metadata": {},
     "output_type": "execute_result"
    }
   ],
   "source": [
    "b"
   ]
  },
  {
   "cell_type": "markdown",
   "id": "5d6f3c6e",
   "metadata": {},
   "source": [
    "### 1. [:] 이용하기"
   ]
  },
  {
   "cell_type": "code",
   "execution_count": 17,
   "id": "f4adbcd8",
   "metadata": {},
   "outputs": [
    {
     "data": {
      "text/plain": [
       "([1, 4, 3], [1, 2, 3])"
      ]
     },
     "execution_count": 17,
     "metadata": {},
     "output_type": "execute_result"
    }
   ],
   "source": [
    "a = [1, 2, 3]\n",
    "b = a[:]  # 리스트 전체를 슬라이싱하여 복사\n",
    "a[1] = 4\n",
    "a, b"
   ]
  },
  {
   "cell_type": "markdown",
   "id": "8417aef2",
   "metadata": {},
   "source": [
    "### 2. copy 모듈 이용하기"
   ]
  },
  {
   "cell_type": "code",
   "execution_count": 19,
   "id": "9b80e3de",
   "metadata": {},
   "outputs": [
    {
     "data": {
      "text/plain": [
       "False"
      ]
     },
     "execution_count": 19,
     "metadata": {},
     "output_type": "execute_result"
    }
   ],
   "source": [
    "from copy import copy\n",
    "a = [1, 2, 3]\n",
    "b = copy(a)  # copy 함수를 이용하여 복사\n",
    "b is a"
   ]
  },
  {
   "cell_type": "markdown",
   "id": "22557e7f",
   "metadata": {},
   "source": [
    "## 변수를 만드는 여러 가지 방법"
   ]
  },
  {
   "cell_type": "code",
   "execution_count": null,
   "id": "a5f8f496",
   "metadata": {},
   "outputs": [
    {
     "data": {
      "text/plain": [
       "(str, str)"
      ]
     },
     "execution_count": 25,
     "metadata": {},
     "output_type": "execute_result"
    }
   ],
   "source": [
    "a, b = ('python', 'life')\n",
    "a, b"
   ]
  },
  {
   "cell_type": "code",
   "execution_count": 23,
   "id": "bc2f0e13",
   "metadata": {},
   "outputs": [
    {
     "data": {
      "text/plain": [
       "('python', 'life')"
      ]
     },
     "execution_count": 23,
     "metadata": {},
     "output_type": "execute_result"
    }
   ],
   "source": [
    "(a, b) = 'python', 'life'\n",
    "a, b"
   ]
  },
  {
   "cell_type": "code",
   "execution_count": null,
   "id": "639341f5",
   "metadata": {},
   "outputs": [
    {
     "data": {
      "text/plain": [
       "('python', 'life')"
      ]
     },
     "execution_count": 26,
     "metadata": {},
     "output_type": "execute_result"
    }
   ],
   "source": [
    "[a, b] = ['python', 'life']     # 리스트 변수\n",
    "a, b"
   ]
  },
  {
   "cell_type": "code",
   "execution_count": 28,
   "id": "108dfb05",
   "metadata": {},
   "outputs": [
    {
     "data": {
      "text/plain": [
       "('python', 'python')"
      ]
     },
     "execution_count": 28,
     "metadata": {},
     "output_type": "execute_result"
    }
   ],
   "source": [
    "a = b = 'python'\n",
    "a, b"
   ]
  },
  {
   "cell_type": "code",
   "execution_count": 29,
   "id": "6dededbd",
   "metadata": {},
   "outputs": [
    {
     "data": {
      "text/plain": [
       "(5, 3)"
      ]
     },
     "execution_count": 29,
     "metadata": {},
     "output_type": "execute_result"
    }
   ],
   "source": [
    "a = 3\n",
    "b = 5\n",
    "a, b = b, a\n",
    "a, b"
   ]
  },
  {
   "cell_type": "code",
   "execution_count": null,
   "id": "8957c9be",
   "metadata": {},
   "outputs": [],
   "source": []
  }
 ],
 "metadata": {
  "kernelspec": {
   "display_name": "chatgpt",
   "language": "python",
   "name": "python3"
  },
  "language_info": {
   "codemirror_mode": {
    "name": "ipython",
    "version": 3
   },
   "file_extension": ".py",
   "mimetype": "text/x-python",
   "name": "python",
   "nbconvert_exporter": "python",
   "pygments_lexer": "ipython3",
   "version": "3.9.13"
  }
 },
 "nbformat": 4,
 "nbformat_minor": 5
}
