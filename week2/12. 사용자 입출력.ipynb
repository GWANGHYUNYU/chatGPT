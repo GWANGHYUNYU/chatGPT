{
 "cells": [
  {
   "cell_type": "markdown",
   "id": "f0883f3c",
   "metadata": {},
   "source": [
    "## 사용자 입력 활용하기"
   ]
  },
  {
   "cell_type": "markdown",
   "id": "514e141d",
   "metadata": {},
   "source": [
    "### input 사용하기"
   ]
  },
  {
   "cell_type": "code",
   "execution_count": 1,
   "id": "9fb751d1",
   "metadata": {},
   "outputs": [
    {
     "data": {
      "text/plain": [
       "'Life is too short, you need python'"
      ]
     },
     "execution_count": 1,
     "metadata": {},
     "output_type": "execute_result"
    }
   ],
   "source": [
    "a = input()\n",
    "a"
   ]
  },
  {
   "cell_type": "code",
   "execution_count": 2,
   "id": "b9ce1ea0",
   "metadata": {},
   "outputs": [
    {
     "data": {
      "text/plain": [
       "'Life is too short, you need python'"
      ]
     },
     "execution_count": 2,
     "metadata": {},
     "output_type": "execute_result"
    }
   ],
   "source": [
    "a"
   ]
  },
  {
   "cell_type": "markdown",
   "id": "6d4ac80c",
   "metadata": {},
   "source": [
    "### 프롬프트를 띄워 사용자 입력받기"
   ]
  },
  {
   "cell_type": "code",
   "execution_count": 3,
   "id": "7f75caf2",
   "metadata": {},
   "outputs": [
    {
     "data": {
      "text/plain": [
       "'3'"
      ]
     },
     "execution_count": 3,
     "metadata": {},
     "output_type": "execute_result"
    }
   ],
   "source": [
    "number = input(\"숫자를 입력하세요: \")\n",
    "number"
   ]
  },
  {
   "cell_type": "code",
   "execution_count": 4,
   "id": "44b19023",
   "metadata": {},
   "outputs": [
    {
     "data": {
      "text/plain": [
       "'3'"
      ]
     },
     "execution_count": 4,
     "metadata": {},
     "output_type": "execute_result"
    }
   ],
   "source": [
    "number"
   ]
  },
  {
   "cell_type": "code",
   "execution_count": 5,
   "id": "d3efc041",
   "metadata": {},
   "outputs": [
    {
     "data": {
      "text/plain": [
       "str"
      ]
     },
     "execution_count": 5,
     "metadata": {},
     "output_type": "execute_result"
    }
   ],
   "source": [
    "type(number)"
   ]
  },
  {
   "cell_type": "markdown",
   "id": "df80f51a",
   "metadata": {},
   "source": [
    "## 입력값을 숫자로 변환하기"
   ]
  },
  {
   "cell_type": "markdown",
   "id": "60922a20",
   "metadata": {},
   "source": [
    "### 정수로 변환하기"
   ]
  },
  {
   "cell_type": "code",
   "execution_count": 7,
   "id": "83a1f23e",
   "metadata": {},
   "outputs": [
    {
     "data": {
      "text/plain": [
       "25"
      ]
     },
     "execution_count": 7,
     "metadata": {},
     "output_type": "execute_result"
    }
   ],
   "source": [
    "age = input(\"나이를 입력하세요: \")\n",
    "age = int(age)\n",
    "age"
   ]
  },
  {
   "cell_type": "markdown",
   "id": "d6226791",
   "metadata": {},
   "source": [
    "### 실수로 변환하기"
   ]
  },
  {
   "cell_type": "code",
   "execution_count": 8,
   "id": "cfc52c8b",
   "metadata": {},
   "outputs": [
    {
     "data": {
      "text/plain": [
       "175.5"
      ]
     },
     "execution_count": 8,
     "metadata": {},
     "output_type": "execute_result"
    }
   ],
   "source": [
    "height = input(\"키를 입력하세요(cm): \")\n",
    "height = float(height)\n",
    "height"
   ]
  }
 ],
 "metadata": {
  "kernelspec": {
   "display_name": "chatgpt",
   "language": "python",
   "name": "python3"
  },
  "language_info": {
   "codemirror_mode": {
    "name": "ipython",
    "version": 3
   },
   "file_extension": ".py",
   "mimetype": "text/x-python",
   "name": "python",
   "nbconvert_exporter": "python",
   "pygments_lexer": "ipython3",
   "version": "3.9.13"
  }
 },
 "nbformat": 4,
 "nbformat_minor": 5
}
