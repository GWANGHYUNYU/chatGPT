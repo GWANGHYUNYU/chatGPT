{
 "cells": [
  {
   "cell_type": "markdown",
   "id": "4cd9553d",
   "metadata": {},
   "source": [
    "## 문자열 자료형"
   ]
  },
  {
   "cell_type": "markdown",
   "id": "5aa34538",
   "metadata": {},
   "source": [
    "### 1. 큰따옴표로 양쪽 둘러싸기"
   ]
  },
  {
   "cell_type": "code",
   "execution_count": 1,
   "id": "4cd0e88f",
   "metadata": {},
   "outputs": [
    {
     "data": {
      "text/plain": [
       "'Hello World'"
      ]
     },
     "execution_count": 1,
     "metadata": {},
     "output_type": "execute_result"
    }
   ],
   "source": [
    "\"Hello World\""
   ]
  },
  {
   "cell_type": "markdown",
   "id": "73b818f3",
   "metadata": {},
   "source": [
    "### 2. 작은따옴표로 양쪽 둘러싸기"
   ]
  },
  {
   "cell_type": "code",
   "execution_count": 2,
   "id": "9c2c4709",
   "metadata": {},
   "outputs": [
    {
     "data": {
      "text/plain": [
       "'Python is fun'"
      ]
     },
     "execution_count": 2,
     "metadata": {},
     "output_type": "execute_result"
    }
   ],
   "source": [
    "'Python is fun'"
   ]
  },
  {
   "cell_type": "markdown",
   "id": "4dcaa9fc",
   "metadata": {},
   "source": [
    "### 3. 큰따옴표 3개를 연속으로 써서 양쪽 둘러싸기"
   ]
  },
  {
   "cell_type": "code",
   "execution_count": 3,
   "id": "531b22cb",
   "metadata": {},
   "outputs": [
    {
     "data": {
      "text/plain": [
       "'Life is too short, You need python'"
      ]
     },
     "execution_count": 3,
     "metadata": {},
     "output_type": "execute_result"
    }
   ],
   "source": [
    "\"\"\"Life is too short, You need python\"\"\""
   ]
  },
  {
   "cell_type": "markdown",
   "id": "894a8e5b",
   "metadata": {},
   "source": [
    "### 4. 작은따옴표 3개를 연속으로 써서 양쪽 둘러싸기"
   ]
  },
  {
   "cell_type": "code",
   "execution_count": 4,
   "id": "df95c1b9",
   "metadata": {},
   "outputs": [
    {
     "data": {
      "text/plain": [
       "'Life is too short, You need python'"
      ]
     },
     "execution_count": 4,
     "metadata": {},
     "output_type": "execute_result"
    }
   ],
   "source": [
    "'''Life is too short, You need python'''"
   ]
  },
  {
   "cell_type": "markdown",
   "id": "4cdd874f",
   "metadata": {},
   "source": [
    "### 1. 문자열에 작은따옴표 포함하기"
   ]
  },
  {
   "cell_type": "code",
   "execution_count": 5,
   "id": "e9ae6d48",
   "metadata": {},
   "outputs": [
    {
     "data": {
      "text/plain": [
       "\"Python's favorite food is perl\""
      ]
     },
     "execution_count": 5,
     "metadata": {},
     "output_type": "execute_result"
    }
   ],
   "source": [
    "food = \"Python's favorite food is perl\"\n",
    "food"
   ]
  },
  {
   "cell_type": "markdown",
   "id": "1a9b7687",
   "metadata": {},
   "source": [
    "### 2. 문자열에 큰따옴표 포함하기"
   ]
  },
  {
   "cell_type": "code",
   "execution_count": 6,
   "id": "31e5462f",
   "metadata": {},
   "outputs": [
    {
     "data": {
      "text/plain": [
       "'\"Python is very easy.\" he says.'"
      ]
     },
     "execution_count": 6,
     "metadata": {},
     "output_type": "execute_result"
    }
   ],
   "source": [
    "say = '\"Python is very easy.\" he says.'\n",
    "say"
   ]
  },
  {
   "cell_type": "markdown",
   "id": "8acd3af9",
   "metadata": {},
   "source": [
    "### 3. 역슬래시를 사용해서 작은따옴표와 큰따옴표를 문자열에 포함하기"
   ]
  },
  {
   "cell_type": "code",
   "execution_count": 7,
   "id": "3d686da3",
   "metadata": {},
   "outputs": [
    {
     "data": {
      "text/plain": [
       "\"Python's favorite food is perl\""
      ]
     },
     "execution_count": 7,
     "metadata": {},
     "output_type": "execute_result"
    }
   ],
   "source": [
    "food = 'Python\\'s favorite food is perl'\n",
    "food"
   ]
  },
  {
   "cell_type": "markdown",
   "id": "1e7c8417",
   "metadata": {},
   "source": [
    "### 1. 줄을 바꾸기 위한 이스케이프 코드 \\n 삽입하기"
   ]
  },
  {
   "cell_type": "code",
   "execution_count": 14,
   "id": "93e949eb",
   "metadata": {},
   "outputs": [
    {
     "name": "stdout",
     "output_type": "stream",
     "text": [
      "Life is too short\n",
      "You need python\n"
     ]
    }
   ],
   "source": [
    "multiline = \"Life is too short\\nYou need python\"\n",
    "print(multiline)"
   ]
  },
  {
   "cell_type": "markdown",
   "id": "2acd5c1c",
   "metadata": {},
   "source": [
    "### 2. 연속된 작은따옴표 3개 또는 큰따옴표 3개 사용하기"
   ]
  },
  {
   "cell_type": "code",
   "execution_count": 31,
   "id": "1660a70a",
   "metadata": {},
   "outputs": [
    {
     "name": "stdout",
     "output_type": "stream",
     "text": [
      "\n",
      "Life is too short\n",
      "You need python\n",
      "\n"
     ]
    }
   ],
   "source": [
    "multiline='''\n",
    "Life is too short\n",
    "You need python\n",
    "'''\n",
    "print(multiline)"
   ]
  },
  {
   "cell_type": "code",
   "execution_count": 32,
   "id": "d12414bc",
   "metadata": {},
   "outputs": [
    {
     "name": "stdout",
     "output_type": "stream",
     "text": [
      "\n",
      "Life is too short\n",
      "You need python\n",
      "\n"
     ]
    }
   ],
   "source": [
    "multiline=\"\"\"\n",
    "Life is too short\n",
    "You need python\n",
    "\"\"\"\n",
    "print(multiline)"
   ]
  },
  {
   "attachments": {
    "image.png": {
     "image/png": "[encoded data removed]"
    }
   },
   "cell_type": "markdown",
   "id": "4ccad2fe",
   "metadata": {},
   "source": [
    "![image.png](attachment:image.png)"
   ]
  },
  {
   "cell_type": "markdown",
   "id": "b4dd660e",
   "metadata": {},
   "source": [
    "### 문자열 더해서 연결하기"
   ]
  },
  {
   "cell_type": "code",
   "execution_count": 33,
   "id": "5968cd98",
   "metadata": {},
   "outputs": [
    {
     "data": {
      "text/plain": [
       "'Python is fun!'"
      ]
     },
     "execution_count": 33,
     "metadata": {},
     "output_type": "execute_result"
    }
   ],
   "source": [
    "head = \"Python\"\n",
    "tail = \" is fun!\"\n",
    "head + tail"
   ]
  },
  {
   "cell_type": "markdown",
   "id": "65e415dd",
   "metadata": {},
   "source": [
    "### 문자열 곱하기"
   ]
  },
  {
   "cell_type": "code",
   "execution_count": 34,
   "id": "c66327cb",
   "metadata": {},
   "outputs": [
    {
     "data": {
      "text/plain": [
       "'pythonpython'"
      ]
     },
     "execution_count": 34,
     "metadata": {},
     "output_type": "execute_result"
    }
   ],
   "source": [
    "a = \"python\"\n",
    "a * 2"
   ]
  },
  {
   "cell_type": "markdown",
   "id": "fb60cb98",
   "metadata": {},
   "source": [
    "### 문자열 길이 구하기"
   ]
  },
  {
   "cell_type": "code",
   "execution_count": 35,
   "id": "aa1ca53f",
   "metadata": {},
   "outputs": [
    {
     "data": {
      "text/plain": [
       "17"
      ]
     },
     "execution_count": 35,
     "metadata": {},
     "output_type": "execute_result"
    }
   ],
   "source": [
    "a = \"Life is too short\"\n",
    "len(a)"
   ]
  },
  {
   "cell_type": "markdown",
   "id": "fe0e1bc0",
   "metadata": {},
   "source": [
    "### 문자열 인덱싱과 슬라이싱"
   ]
  },
  {
   "cell_type": "code",
   "execution_count": 36,
   "id": "6284de57",
   "metadata": {},
   "outputs": [],
   "source": [
    "a = \"Life is too short, You need Python\""
   ]
  },
  {
   "attachments": {
    "image.png": {
     "image/png": "[encoded data removed]"
    }
   },
   "cell_type": "markdown",
   "id": "ee6eb0ed",
   "metadata": {},
   "source": [
    "![image.png](attachment:image.png)"
   ]
  },
  {
   "cell_type": "code",
   "execution_count": 37,
   "id": "4d5218a4",
   "metadata": {},
   "outputs": [
    {
     "data": {
      "text/plain": [
       "'e'"
      ]
     },
     "execution_count": 37,
     "metadata": {},
     "output_type": "execute_result"
    }
   ],
   "source": [
    "a[3]"
   ]
  },
  {
   "cell_type": "markdown",
   "id": "0dba162c",
   "metadata": {},
   "source": [
    "### 문자열 인덱싱 활용하기"
   ]
  },
  {
   "cell_type": "code",
   "execution_count": 39,
   "id": "47a9a8d7",
   "metadata": {},
   "outputs": [
    {
     "data": {
      "text/plain": [
       "'L'"
      ]
     },
     "execution_count": 39,
     "metadata": {},
     "output_type": "execute_result"
    }
   ],
   "source": [
    "a = \"Life is too short, You need Python\"\n",
    "a[0]"
   ]
  },
  {
   "cell_type": "code",
   "execution_count": 40,
   "id": "913bd883",
   "metadata": {},
   "outputs": [
    {
     "data": {
      "text/plain": [
       "'s'"
      ]
     },
     "execution_count": 40,
     "metadata": {},
     "output_type": "execute_result"
    }
   ],
   "source": [
    "a[12]"
   ]
  },
  {
   "cell_type": "code",
   "execution_count": 41,
   "id": "0e2d07f6",
   "metadata": {},
   "outputs": [
    {
     "data": {
      "text/plain": [
       "'n'"
      ]
     },
     "execution_count": 41,
     "metadata": {},
     "output_type": "execute_result"
    }
   ],
   "source": [
    "a[-1]"
   ]
  },
  {
   "cell_type": "code",
   "execution_count": 42,
   "id": "2041b204",
   "metadata": {},
   "outputs": [
    {
     "data": {
      "text/plain": [
       "'L'"
      ]
     },
     "execution_count": 42,
     "metadata": {},
     "output_type": "execute_result"
    }
   ],
   "source": [
    "a[-0]"
   ]
  },
  {
   "cell_type": "code",
   "execution_count": 43,
   "id": "925e1eb7",
   "metadata": {},
   "outputs": [
    {
     "data": {
      "text/plain": [
       "'o'"
      ]
     },
     "execution_count": 43,
     "metadata": {},
     "output_type": "execute_result"
    }
   ],
   "source": [
    "a[-2]"
   ]
  },
  {
   "cell_type": "code",
   "execution_count": 44,
   "id": "64b9aa6a",
   "metadata": {},
   "outputs": [
    {
     "data": {
      "text/plain": [
       "'y'"
      ]
     },
     "execution_count": 44,
     "metadata": {},
     "output_type": "execute_result"
    }
   ],
   "source": [
    "a[-5]"
   ]
  },
  {
   "cell_type": "markdown",
   "id": "afef1133",
   "metadata": {},
   "source": [
    "### 문자열 슬라이싱"
   ]
  },
  {
   "cell_type": "code",
   "execution_count": 45,
   "id": "cf8a3ca0",
   "metadata": {},
   "outputs": [
    {
     "data": {
      "text/plain": [
       "'Life'"
      ]
     },
     "execution_count": 45,
     "metadata": {},
     "output_type": "execute_result"
    }
   ],
   "source": [
    "a = \"Life is too short, You need Python\"\n",
    "b = a[0] + a[1] + a[2] + a[3]\n",
    "b"
   ]
  },
  {
   "cell_type": "code",
   "execution_count": 46,
   "id": "072a7563",
   "metadata": {},
   "outputs": [
    {
     "data": {
      "text/plain": [
       "'Life'"
      ]
     },
     "execution_count": 46,
     "metadata": {},
     "output_type": "execute_result"
    }
   ],
   "source": [
    "a = \"Life is too short, You need Python\"\n",
    "a[0:4]"
   ]
  },
  {
   "cell_type": "code",
   "execution_count": 47,
   "id": "96fb2691",
   "metadata": {},
   "outputs": [
    {
     "data": {
      "text/plain": [
       "'Lif'"
      ]
     },
     "execution_count": 47,
     "metadata": {},
     "output_type": "execute_result"
    }
   ],
   "source": [
    "a[0:3]"
   ]
  },
  {
   "cell_type": "markdown",
   "id": "fa400e1c",
   "metadata": {},
   "source": [
    "### 문자열을 슬라이싱하는 방법"
   ]
  },
  {
   "cell_type": "code",
   "execution_count": 48,
   "id": "606643c0",
   "metadata": {},
   "outputs": [
    {
     "data": {
      "text/plain": [
       "'Life '"
      ]
     },
     "execution_count": 48,
     "metadata": {},
     "output_type": "execute_result"
    }
   ],
   "source": [
    "a[0:5]"
   ]
  },
  {
   "cell_type": "code",
   "execution_count": 49,
   "id": "8174dd71",
   "metadata": {},
   "outputs": [
    {
     "data": {
      "text/plain": [
       "'is'"
      ]
     },
     "execution_count": 49,
     "metadata": {},
     "output_type": "execute_result"
    }
   ],
   "source": [
    "a[5:7]"
   ]
  },
  {
   "cell_type": "code",
   "execution_count": 50,
   "id": "7b7743b7",
   "metadata": {},
   "outputs": [
    {
     "data": {
      "text/plain": [
       "'short'"
      ]
     },
     "execution_count": 50,
     "metadata": {},
     "output_type": "execute_result"
    }
   ],
   "source": [
    "a[12:17]"
   ]
  },
  {
   "cell_type": "code",
   "execution_count": 51,
   "id": "0fa6eb0f",
   "metadata": {},
   "outputs": [
    {
     "data": {
      "text/plain": [
       "'You need Python'"
      ]
     },
     "execution_count": 51,
     "metadata": {},
     "output_type": "execute_result"
    }
   ],
   "source": [
    "a[19:]"
   ]
  },
  {
   "cell_type": "code",
   "execution_count": 52,
   "id": "0f379715",
   "metadata": {},
   "outputs": [
    {
     "data": {
      "text/plain": [
       "'Life is too short'"
      ]
     },
     "execution_count": 52,
     "metadata": {},
     "output_type": "execute_result"
    }
   ],
   "source": [
    "a[:17]"
   ]
  },
  {
   "cell_type": "code",
   "execution_count": 53,
   "id": "ddf78724",
   "metadata": {},
   "outputs": [
    {
     "data": {
      "text/plain": [
       "'Life is too short, You need Python'"
      ]
     },
     "execution_count": 53,
     "metadata": {},
     "output_type": "execute_result"
    }
   ],
   "source": [
    "a[:]"
   ]
  },
  {
   "cell_type": "code",
   "execution_count": 54,
   "id": "d22b7062",
   "metadata": {},
   "outputs": [
    {
     "data": {
      "text/plain": [
       "'You need'"
      ]
     },
     "execution_count": 54,
     "metadata": {},
     "output_type": "execute_result"
    }
   ],
   "source": [
    "a[19:-7]"
   ]
  },
  {
   "cell_type": "markdown",
   "id": "4837b039",
   "metadata": {},
   "source": [
    "### 슬라이싱으로 문자열 나누기"
   ]
  },
  {
   "cell_type": "code",
   "execution_count": 57,
   "id": "559fb17e",
   "metadata": {},
   "outputs": [],
   "source": [
    "a = \"20230331Rainy\"\n",
    "date = a[:8]\n",
    "weather = a[8:]"
   ]
  },
  {
   "cell_type": "code",
   "execution_count": 58,
   "id": "cb3ac17f",
   "metadata": {},
   "outputs": [
    {
     "data": {
      "text/plain": [
       "'20230331'"
      ]
     },
     "execution_count": 58,
     "metadata": {},
     "output_type": "execute_result"
    }
   ],
   "source": [
    "date"
   ]
  },
  {
   "cell_type": "code",
   "execution_count": 59,
   "id": "b016ec61",
   "metadata": {},
   "outputs": [
    {
     "data": {
      "text/plain": [
       "'Rainy'"
      ]
     },
     "execution_count": 59,
     "metadata": {},
     "output_type": "execute_result"
    }
   ],
   "source": [
    "weather"
   ]
  },
  {
   "cell_type": "code",
   "execution_count": 60,
   "id": "79e02831",
   "metadata": {},
   "outputs": [
    {
     "data": {
      "text/plain": [
       "('2023', '0331', 'Rainy')"
      ]
     },
     "execution_count": 60,
     "metadata": {},
     "output_type": "execute_result"
    }
   ],
   "source": [
    "a = \"20230331Rainy\"\n",
    "year = a[:4]\n",
    "day = a[4:8]\n",
    "weather = a[8:]\n",
    "\n",
    "year, day, weather"
   ]
  },
  {
   "cell_type": "markdown",
   "id": "a8fb36f5",
   "metadata": {},
   "source": [
    "### 문자열 포매팅"
   ]
  },
  {
   "cell_type": "markdown",
   "id": "9259511c",
   "metadata": {},
   "source": [
    "### 1. 숫자 바로 대입"
   ]
  },
  {
   "cell_type": "code",
   "execution_count": 62,
   "id": "28c24e3f",
   "metadata": {},
   "outputs": [
    {
     "name": "stdout",
     "output_type": "stream",
     "text": [
      "I eat 3 apples.\n"
     ]
    }
   ],
   "source": [
    "print(\"I eat %d apples.\" % 3)"
   ]
  },
  {
   "cell_type": "markdown",
   "id": "a7c395a4",
   "metadata": {},
   "source": [
    "### 2. 문자열 바로 대입"
   ]
  },
  {
   "cell_type": "code",
   "execution_count": 63,
   "id": "103fe5e1",
   "metadata": {},
   "outputs": [
    {
     "name": "stdout",
     "output_type": "stream",
     "text": [
      "I eat five apples.\n"
     ]
    }
   ],
   "source": [
    "print(\"I eat %s apples.\" % \"five\")"
   ]
  },
  {
   "cell_type": "markdown",
   "id": "8eefe175",
   "metadata": {},
   "source": [
    "### 3. 숫자 값을 나타내는 변수로 대입"
   ]
  },
  {
   "cell_type": "code",
   "execution_count": 64,
   "id": "33a2042c",
   "metadata": {},
   "outputs": [
    {
     "name": "stdout",
     "output_type": "stream",
     "text": [
      "I eat 3 apples.\n"
     ]
    }
   ],
   "source": [
    "number = 3\n",
    "print(\"I eat %d apples.\" % number)"
   ]
  },
  {
   "cell_type": "markdown",
   "id": "cb7d06ba",
   "metadata": {},
   "source": [
    "### 4. 2개 이상의 값 넣기"
   ]
  },
  {
   "cell_type": "code",
   "execution_count": 65,
   "id": "78a05777",
   "metadata": {},
   "outputs": [
    {
     "name": "stdout",
     "output_type": "stream",
     "text": [
      "I ate 10 apples. so I was sick for three days.\n"
     ]
    }
   ],
   "source": [
    "number = 10\n",
    "day = \"three\"\n",
    "print(\"I ate %d apples. so I was sick for %s days.\" % (number, day))"
   ]
  },
  {
   "cell_type": "markdown",
   "id": "a117ddbd",
   "metadata": {},
   "source": [
    "### 포맷 코드와 숫자 함께 사용하기"
   ]
  },
  {
   "cell_type": "markdown",
   "id": "fe0d6494",
   "metadata": {},
   "source": [
    "### 1. 정렬과 공백"
   ]
  },
  {
   "cell_type": "code",
   "execution_count": 66,
   "id": "260c12da",
   "metadata": {},
   "outputs": [
    {
     "name": "stdout",
     "output_type": "stream",
     "text": [
      "        hi\n"
     ]
    }
   ],
   "source": [
    "print(\"%10s\" % \"hi\")"
   ]
  },
  {
   "cell_type": "code",
   "execution_count": 67,
   "id": "fd52fe00",
   "metadata": {},
   "outputs": [
    {
     "name": "stdout",
     "output_type": "stream",
     "text": [
      "hi        jane.\n"
     ]
    }
   ],
   "source": [
    "print(\"%-10sjane.\" % 'hi')"
   ]
  },
  {
   "cell_type": "markdown",
   "id": "4752b91d",
   "metadata": {},
   "source": [
    "### 2. 소수점 표현하기"
   ]
  },
  {
   "cell_type": "code",
   "execution_count": 68,
   "id": "0a391067",
   "metadata": {},
   "outputs": [
    {
     "name": "stdout",
     "output_type": "stream",
     "text": [
      "3.4213\n"
     ]
    }
   ],
   "source": [
    "print(\"%0.4f\" % 3.42134234)"
   ]
  },
  {
   "cell_type": "code",
   "execution_count": 69,
   "id": "24740a5f",
   "metadata": {},
   "outputs": [
    {
     "name": "stdout",
     "output_type": "stream",
     "text": [
      "    3.4213\n"
     ]
    }
   ],
   "source": [
    "print(\"%10.4f\" % 3.42134234)"
   ]
  },
  {
   "cell_type": "markdown",
   "id": "2544335b",
   "metadata": {},
   "source": [
    "### format 함수를 사용한 포매팅"
   ]
  },
  {
   "cell_type": "code",
   "execution_count": 70,
   "id": "7204a675",
   "metadata": {},
   "outputs": [
    {
     "name": "stdout",
     "output_type": "stream",
     "text": [
      "I eat 3 apples\n"
     ]
    }
   ],
   "source": [
    "print(\"I eat {0} apples\".format(3))"
   ]
  },
  {
   "cell_type": "markdown",
   "id": "323b36f9",
   "metadata": {},
   "source": [
    "### 문자열 바로 대입하기"
   ]
  },
  {
   "cell_type": "code",
   "execution_count": 71,
   "id": "10bca4ff",
   "metadata": {},
   "outputs": [
    {
     "name": "stdout",
     "output_type": "stream",
     "text": [
      "I eat five apples\n"
     ]
    }
   ],
   "source": [
    "print(\"I eat {0} apples\".format(\"five\"))"
   ]
  },
  {
   "cell_type": "code",
   "execution_count": 72,
   "id": "60c23de4",
   "metadata": {},
   "outputs": [
    {
     "name": "stdout",
     "output_type": "stream",
     "text": [
      "I eat 3 apples\n"
     ]
    }
   ],
   "source": [
    "number = 3\n",
    "print(\"I eat {0} apples\".format(number))"
   ]
  },
  {
   "cell_type": "code",
   "execution_count": 73,
   "id": "ca1f75ea",
   "metadata": {},
   "outputs": [
    {
     "name": "stdout",
     "output_type": "stream",
     "text": [
      "I ate 10 apples. so I was sick for three days.\n"
     ]
    }
   ],
   "source": [
    "number = 10\n",
    "day = \"three\"\n",
    "print(\"I ate {0} apples. so I was sick for {1} days.\".format(number, day))"
   ]
  },
  {
   "cell_type": "markdown",
   "id": "1c8a8fbb",
   "metadata": {},
   "source": [
    "### f 문자열 포매팅"
   ]
  },
  {
   "cell_type": "code",
   "execution_count": 74,
   "id": "aeb16c65",
   "metadata": {},
   "outputs": [
    {
     "name": "stdout",
     "output_type": "stream",
     "text": [
      "나의 이름은 홍길동입니다. 나이는 30입니다.\n"
     ]
    }
   ],
   "source": [
    "name = '홍길동'\n",
    "age = 30\n",
    "print(f'나의 이름은 {name}입니다. 나이는 {age}입니다.')"
   ]
  },
  {
   "cell_type": "code",
   "execution_count": 75,
   "id": "4c706152",
   "metadata": {},
   "outputs": [
    {
     "name": "stdout",
     "output_type": "stream",
     "text": [
      "나는 내년이면 31살이 된다.\n"
     ]
    }
   ],
   "source": [
    "age = 30\n",
    "print(f'나는 내년이면 {age + 1}살이 된다.')"
   ]
  },
  {
   "cell_type": "code",
   "execution_count": 76,
   "id": "735f4c5c",
   "metadata": {},
   "outputs": [
    {
     "name": "stdout",
     "output_type": "stream",
     "text": [
      "나의 이름은 홍길동입니다. 나이는 30입니다.\n"
     ]
    }
   ],
   "source": [
    "d = {'name':'홍길동', 'age':30}\n",
    "print(f'나의 이름은 {d[\"name\"]}입니다. 나이는 {d[\"age\"]}입니다.')"
   ]
  },
  {
   "cell_type": "code",
   "execution_count": 77,
   "id": "4221e7af",
   "metadata": {},
   "outputs": [
    {
     "name": "stdout",
     "output_type": "stream",
     "text": [
      "{ and }\n"
     ]
    }
   ],
   "source": [
    "print(f'{{ and }}')"
   ]
  }
 ],
 "metadata": {
  "kernelspec": {
   "display_name": "chatgpt",
   "language": "python",
   "name": "python3"
  },
  "language_info": {
   "codemirror_mode": {
    "name": "ipython",
    "version": 3
   },
   "file_extension": ".py",
   "mimetype": "text/x-python",
   "name": "python",
   "nbconvert_exporter": "python",
   "pygments_lexer": "ipython3",
   "version": "3.9.13"
  }
 },
 "nbformat": 4,
 "nbformat_minor": 5
}
