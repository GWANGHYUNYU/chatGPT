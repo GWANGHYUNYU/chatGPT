{
 "cells": [
  {
   "cell_type": "markdown",
   "id": "2a1f699a",
   "metadata": {},
   "source": [
    "## 패키지\n",
    "파이썬에서 패키지(packages)란 관련 있는 모듈의 집합을 말한다. \n",
    "\n",
    "패키지는 파이썬 모듈을 계층적(디렉터리 구조)으로 관리할 수 있게 해 준다.\n",
    "\n",
    "```\n",
    "game/\n",
    "    __init__.py\n",
    "    sound/\n",
    "        __init__.py\n",
    "        echo.py\n",
    "        wav.py\n",
    "    graphic/\n",
    "        __init__.py\n",
    "        screen.py\n",
    "        render.py\n",
    "    play/\n",
    "        __init__.py\n",
    "        run.py\n",
    "        test.py\n",
    "```\n"
   ]
  },
  {
   "cell_type": "markdown",
   "id": "5e888706",
   "metadata": {},
   "source": [
    "### 패키지 안의 함수 실행하기"
   ]
  },
  {
   "cell_type": "code",
   "execution_count": 55,
   "id": "8a15579b",
   "metadata": {},
   "outputs": [
    {
     "name": "stdout",
     "output_type": "stream",
     "text": [
      "echo\n"
     ]
    }
   ],
   "source": [
    "import game.sound.echo\n",
    "\n",
    "game.sound.echo.echo_test()"
   ]
  },
  {
   "cell_type": "code",
   "execution_count": 56,
   "id": "46900be1",
   "metadata": {},
   "outputs": [
    {
     "name": "stdout",
     "output_type": "stream",
     "text": [
      "echo\n"
     ]
    }
   ],
   "source": [
    "from game.sound import echo\n",
    "\n",
    "echo.echo_test()"
   ]
  },
  {
   "cell_type": "code",
   "execution_count": 57,
   "id": "f00bd275",
   "metadata": {},
   "outputs": [
    {
     "name": "stdout",
     "output_type": "stream",
     "text": [
      "echo\n"
     ]
    }
   ],
   "source": [
    "from game.sound.echo import echo_test\n",
    "\n",
    "echo_test()"
   ]
  },
  {
   "cell_type": "markdown",
   "id": "e1a46058",
   "metadata": {},
   "source": [
    "### 패키지 변수 및 함수 정의\n",
    "\n",
    "패키지 수준에서 변수와 함수를 정의할 수 있다. \n",
    "\n",
    "예를 들어, `game` 패키지의 `__init__.py` 파일에 공통 변수나 함수를 정의할 수 있다."
   ]
  },
  {
   "cell_type": "code",
   "execution_count": 58,
   "id": "68f10c22",
   "metadata": {},
   "outputs": [
    {
     "data": {
      "text/plain": [
       "['C:\\\\Users\\\\user\\\\anaconda3\\\\python39.zip',\n",
       " 'C:\\\\Users\\\\user\\\\anaconda3\\\\DLLs',\n",
       " 'C:\\\\Users\\\\user\\\\anaconda3\\\\lib',\n",
       " 'C:\\\\Users\\\\user\\\\anaconda3',\n",
       " 'd:\\\\Coding_2025\\\\chatGPT\\\\.venv',\n",
       " '',\n",
       " 'd:\\\\Coding_2025\\\\chatGPT\\\\.venv\\\\lib\\\\site-packages',\n",
       " 'd:\\\\Coding_2025\\\\chatGPT\\\\.venv\\\\lib\\\\site-packages\\\\win32',\n",
       " 'd:\\\\Coding_2025\\\\chatGPT\\\\.venv\\\\lib\\\\site-packages\\\\win32\\\\lib',\n",
       " 'd:\\\\Coding_2025\\\\chatGPT\\\\.venv\\\\lib\\\\site-packages\\\\Pythonwin',\n",
       " 'd:/Coding_2025/chatGPT/week2',\n",
       " 'd:/Coding_2025/chatGPT/week2',\n",
       " 'd:/Coding_2025/chatGPT/week2/game',\n",
       " 'd:/Coding_2025/chatGPT/week2',\n",
       " 'd:/Coding_2025/chatGPT/week2/game']"
      ]
     },
     "execution_count": 58,
     "metadata": {},
     "output_type": "execute_result"
    }
   ],
   "source": [
    "import sys\n",
    "sys.path"
   ]
  },
  {
   "cell_type": "code",
   "execution_count": 59,
   "id": "55c71453",
   "metadata": {},
   "outputs": [],
   "source": [
    "sys.path.append('d:/Coding_2025/chatGPT/week2') # 패키지 경로 추가\n",
    "sys.path.append('d:/Coding_2025/chatGPT/week2/game') # 패키지 경로 추가"
   ]
  },
  {
   "cell_type": "code",
   "execution_count": 61,
   "id": "a72efd76",
   "metadata": {},
   "outputs": [
    {
     "name": "stdout",
     "output_type": "stream",
     "text": [
      "3.5\n"
     ]
    }
   ],
   "source": [
    "import game\n",
    "\n",
    "print(game.VERSION)"
   ]
  }
 ],
 "metadata": {
  "kernelspec": {
   "display_name": "chatgpt",
   "language": "python",
   "name": "python3"
  },
  "language_info": {
   "codemirror_mode": {
    "name": "ipython",
    "version": 3
   },
   "file_extension": ".py",
   "mimetype": "text/x-python",
   "name": "python",
   "nbconvert_exporter": "python",
   "pygments_lexer": "ipython3",
   "version": "3.9.13"
  }
 },
 "nbformat": 4,
 "nbformat_minor": 5
}
